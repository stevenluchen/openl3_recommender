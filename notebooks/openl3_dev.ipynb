{
  "nbformat": 4,
  "nbformat_minor": 0,
  "metadata": {
    "colab": {
      "provenance": [],
      "gpuType": "T4"
    },
    "kernelspec": {
      "name": "python3",
      "display_name": "Python 3"
    },
    "language_info": {
      "name": "python"
    },
    "accelerator": "GPU"
  },
  "cells": [
    {
      "cell_type": "code",
      "execution_count": 12,
      "metadata": {
        "colab": {
          "base_uri": "https://localhost:8080/"
        },
        "collapsed": true,
        "id": "ef6-GFA6vItd",
        "outputId": "6181945a-b46f-4732-ce3f-582a4a9802d0"
      },
      "outputs": [
        {
          "output_type": "stream",
          "name": "stdout",
          "text": [
            "Collecting openl3\n",
            "  Downloading openl3-0.4.2.tar.gz (29 kB)\n",
            "  Preparing metadata (setup.py) ... \u001b[?25l\u001b[?25hdone\n",
            "Collecting pydub\n",
            "  Downloading pydub-0.25.1-py2.py3-none-any.whl.metadata (1.4 kB)\n",
            "Collecting spotipy\n",
            "  Downloading spotipy-2.25.1-py3-none-any.whl.metadata (5.1 kB)\n",
            "Requirement already satisfied: tensorflow>=2.0.0 in /usr/local/lib/python3.11/dist-packages (from openl3) (2.18.0)\n",
            "Requirement already satisfied: numpy>=1.13.0 in /usr/local/lib/python3.11/dist-packages (from openl3) (2.0.2)\n",
            "Requirement already satisfied: scipy>=0.19.1 in /usr/local/lib/python3.11/dist-packages (from openl3) (1.14.1)\n",
            "Collecting kapre>=0.3.5 (from openl3)\n",
            "  Downloading kapre-0.3.7.tar.gz (26 kB)\n",
            "  Installing build dependencies ... \u001b[?25l\u001b[?25hdone\n",
            "  Getting requirements to build wheel ... \u001b[?25l\u001b[?25hdone\n",
            "  Preparing metadata (pyproject.toml) ... \u001b[?25l\u001b[?25hdone\n",
            "Requirement already satisfied: soundfile>=0.9.0.post1 in /usr/local/lib/python3.11/dist-packages (from openl3) (0.13.1)\n",
            "Collecting resampy<0.3.0,>=0.2.1 (from openl3)\n",
            "  Downloading resampy-0.2.2.tar.gz (323 kB)\n",
            "\u001b[2K     \u001b[90m━━━━━━━━━━━━━━━━━━━━━━━━━━━━━━━━━━━━━━━━\u001b[0m \u001b[32m323.4/323.4 kB\u001b[0m \u001b[31m14.2 MB/s\u001b[0m eta \u001b[36m0:00:00\u001b[0m\n",
            "\u001b[?25h  Preparing metadata (setup.py) ... \u001b[?25l\u001b[?25hdone\n",
            "Requirement already satisfied: h5py>=2.7.0 in /usr/local/lib/python3.11/dist-packages (from openl3) (3.13.0)\n",
            "Requirement already satisfied: moviepy>=1.0.0 in /usr/local/lib/python3.11/dist-packages (from openl3) (1.0.3)\n",
            "Requirement already satisfied: scikit-image>=0.14.3 in /usr/local/lib/python3.11/dist-packages (from openl3) (0.25.2)\n",
            "Requirement already satisfied: librosa>=0.7.2 in /usr/local/lib/python3.11/dist-packages (from openl3) (0.11.0)\n",
            "Collecting redis>=3.5.3 (from spotipy)\n",
            "  Downloading redis-5.2.1-py3-none-any.whl.metadata (9.1 kB)\n",
            "Requirement already satisfied: requests>=2.25.0 in /usr/local/lib/python3.11/dist-packages (from spotipy) (2.32.3)\n",
            "Requirement already satisfied: urllib3>=1.26.0 in /usr/local/lib/python3.11/dist-packages (from spotipy) (2.3.0)\n",
            "Requirement already satisfied: audioread>=2.1.9 in /usr/local/lib/python3.11/dist-packages (from librosa>=0.7.2->openl3) (3.0.1)\n",
            "Requirement already satisfied: numba>=0.51.0 in /usr/local/lib/python3.11/dist-packages (from librosa>=0.7.2->openl3) (0.60.0)\n",
            "Requirement already satisfied: scikit-learn>=1.1.0 in /usr/local/lib/python3.11/dist-packages (from librosa>=0.7.2->openl3) (1.6.1)\n",
            "Requirement already satisfied: joblib>=1.0 in /usr/local/lib/python3.11/dist-packages (from librosa>=0.7.2->openl3) (1.4.2)\n",
            "Requirement already satisfied: decorator>=4.3.0 in /usr/local/lib/python3.11/dist-packages (from librosa>=0.7.2->openl3) (4.4.2)\n",
            "Requirement already satisfied: pooch>=1.1 in /usr/local/lib/python3.11/dist-packages (from librosa>=0.7.2->openl3) (1.8.2)\n",
            "Requirement already satisfied: soxr>=0.3.2 in /usr/local/lib/python3.11/dist-packages (from librosa>=0.7.2->openl3) (0.5.0.post1)\n",
            "Requirement already satisfied: typing_extensions>=4.1.1 in /usr/local/lib/python3.11/dist-packages (from librosa>=0.7.2->openl3) (4.13.1)\n",
            "Requirement already satisfied: lazy_loader>=0.1 in /usr/local/lib/python3.11/dist-packages (from librosa>=0.7.2->openl3) (0.4)\n",
            "Requirement already satisfied: msgpack>=1.0 in /usr/local/lib/python3.11/dist-packages (from librosa>=0.7.2->openl3) (1.1.0)\n",
            "Requirement already satisfied: tqdm<5.0,>=4.11.2 in /usr/local/lib/python3.11/dist-packages (from moviepy>=1.0.0->openl3) (4.67.1)\n",
            "Requirement already satisfied: proglog<=1.0.0 in /usr/local/lib/python3.11/dist-packages (from moviepy>=1.0.0->openl3) (0.1.11)\n",
            "Requirement already satisfied: imageio<3.0,>=2.5 in /usr/local/lib/python3.11/dist-packages (from moviepy>=1.0.0->openl3) (2.37.0)\n",
            "Requirement already satisfied: imageio-ffmpeg>=0.2.0 in /usr/local/lib/python3.11/dist-packages (from moviepy>=1.0.0->openl3) (0.6.0)\n",
            "Requirement already satisfied: charset-normalizer<4,>=2 in /usr/local/lib/python3.11/dist-packages (from requests>=2.25.0->spotipy) (3.4.1)\n",
            "Requirement already satisfied: idna<4,>=2.5 in /usr/local/lib/python3.11/dist-packages (from requests>=2.25.0->spotipy) (3.10)\n",
            "Requirement already satisfied: certifi>=2017.4.17 in /usr/local/lib/python3.11/dist-packages (from requests>=2.25.0->spotipy) (2025.1.31)\n",
            "Requirement already satisfied: six>=1.3 in /usr/local/lib/python3.11/dist-packages (from resampy<0.3.0,>=0.2.1->openl3) (1.17.0)\n",
            "Requirement already satisfied: networkx>=3.0 in /usr/local/lib/python3.11/dist-packages (from scikit-image>=0.14.3->openl3) (3.4.2)\n",
            "Requirement already satisfied: pillow>=10.1 in /usr/local/lib/python3.11/dist-packages (from scikit-image>=0.14.3->openl3) (11.1.0)\n",
            "Requirement already satisfied: tifffile>=2022.8.12 in /usr/local/lib/python3.11/dist-packages (from scikit-image>=0.14.3->openl3) (2025.3.30)\n",
            "Requirement already satisfied: packaging>=21 in /usr/local/lib/python3.11/dist-packages (from scikit-image>=0.14.3->openl3) (24.2)\n",
            "Requirement already satisfied: cffi>=1.0 in /usr/local/lib/python3.11/dist-packages (from soundfile>=0.9.0.post1->openl3) (1.17.1)\n",
            "Requirement already satisfied: absl-py>=1.0.0 in /usr/local/lib/python3.11/dist-packages (from tensorflow>=2.0.0->openl3) (1.4.0)\n",
            "Requirement already satisfied: astunparse>=1.6.0 in /usr/local/lib/python3.11/dist-packages (from tensorflow>=2.0.0->openl3) (1.6.3)\n",
            "Requirement already satisfied: flatbuffers>=24.3.25 in /usr/local/lib/python3.11/dist-packages (from tensorflow>=2.0.0->openl3) (25.2.10)\n",
            "Requirement already satisfied: gast!=0.5.0,!=0.5.1,!=0.5.2,>=0.2.1 in /usr/local/lib/python3.11/dist-packages (from tensorflow>=2.0.0->openl3) (0.6.0)\n",
            "Requirement already satisfied: google-pasta>=0.1.1 in /usr/local/lib/python3.11/dist-packages (from tensorflow>=2.0.0->openl3) (0.2.0)\n",
            "Requirement already satisfied: libclang>=13.0.0 in /usr/local/lib/python3.11/dist-packages (from tensorflow>=2.0.0->openl3) (18.1.1)\n",
            "Requirement already satisfied: opt-einsum>=2.3.2 in /usr/local/lib/python3.11/dist-packages (from tensorflow>=2.0.0->openl3) (3.4.0)\n",
            "Requirement already satisfied: protobuf!=4.21.0,!=4.21.1,!=4.21.2,!=4.21.3,!=4.21.4,!=4.21.5,<6.0.0dev,>=3.20.3 in /usr/local/lib/python3.11/dist-packages (from tensorflow>=2.0.0->openl3) (5.29.4)\n",
            "Requirement already satisfied: setuptools in /usr/local/lib/python3.11/dist-packages (from tensorflow>=2.0.0->openl3) (75.2.0)\n",
            "Requirement already satisfied: termcolor>=1.1.0 in /usr/local/lib/python3.11/dist-packages (from tensorflow>=2.0.0->openl3) (3.0.1)\n",
            "Requirement already satisfied: wrapt>=1.11.0 in /usr/local/lib/python3.11/dist-packages (from tensorflow>=2.0.0->openl3) (1.17.2)\n",
            "Requirement already satisfied: grpcio<2.0,>=1.24.3 in /usr/local/lib/python3.11/dist-packages (from tensorflow>=2.0.0->openl3) (1.71.0)\n",
            "Requirement already satisfied: tensorboard<2.19,>=2.18 in /usr/local/lib/python3.11/dist-packages (from tensorflow>=2.0.0->openl3) (2.18.0)\n",
            "Requirement already satisfied: keras>=3.5.0 in /usr/local/lib/python3.11/dist-packages (from tensorflow>=2.0.0->openl3) (3.8.0)\n",
            "Requirement already satisfied: ml-dtypes<0.5.0,>=0.4.0 in /usr/local/lib/python3.11/dist-packages (from tensorflow>=2.0.0->openl3) (0.4.1)\n",
            "Requirement already satisfied: tensorflow-io-gcs-filesystem>=0.23.1 in /usr/local/lib/python3.11/dist-packages (from tensorflow>=2.0.0->openl3) (0.37.1)\n",
            "Requirement already satisfied: wheel<1.0,>=0.23.0 in /usr/local/lib/python3.11/dist-packages (from astunparse>=1.6.0->tensorflow>=2.0.0->openl3) (0.45.1)\n",
            "Requirement already satisfied: pycparser in /usr/local/lib/python3.11/dist-packages (from cffi>=1.0->soundfile>=0.9.0.post1->openl3) (2.22)\n",
            "Requirement already satisfied: rich in /usr/local/lib/python3.11/dist-packages (from keras>=3.5.0->tensorflow>=2.0.0->openl3) (13.9.4)\n",
            "Requirement already satisfied: namex in /usr/local/lib/python3.11/dist-packages (from keras>=3.5.0->tensorflow>=2.0.0->openl3) (0.0.8)\n",
            "Requirement already satisfied: optree in /usr/local/lib/python3.11/dist-packages (from keras>=3.5.0->tensorflow>=2.0.0->openl3) (0.14.1)\n",
            "Requirement already satisfied: llvmlite<0.44,>=0.43.0dev0 in /usr/local/lib/python3.11/dist-packages (from numba>=0.51.0->librosa>=0.7.2->openl3) (0.43.0)\n",
            "Requirement already satisfied: platformdirs>=2.5.0 in /usr/local/lib/python3.11/dist-packages (from pooch>=1.1->librosa>=0.7.2->openl3) (4.3.7)\n",
            "Requirement already satisfied: threadpoolctl>=3.1.0 in /usr/local/lib/python3.11/dist-packages (from scikit-learn>=1.1.0->librosa>=0.7.2->openl3) (3.6.0)\n",
            "Requirement already satisfied: markdown>=2.6.8 in /usr/local/lib/python3.11/dist-packages (from tensorboard<2.19,>=2.18->tensorflow>=2.0.0->openl3) (3.7)\n",
            "Requirement already satisfied: tensorboard-data-server<0.8.0,>=0.7.0 in /usr/local/lib/python3.11/dist-packages (from tensorboard<2.19,>=2.18->tensorflow>=2.0.0->openl3) (0.7.2)\n",
            "Requirement already satisfied: werkzeug>=1.0.1 in /usr/local/lib/python3.11/dist-packages (from tensorboard<2.19,>=2.18->tensorflow>=2.0.0->openl3) (3.1.3)\n",
            "Requirement already satisfied: MarkupSafe>=2.1.1 in /usr/local/lib/python3.11/dist-packages (from werkzeug>=1.0.1->tensorboard<2.19,>=2.18->tensorflow>=2.0.0->openl3) (3.0.2)\n",
            "Requirement already satisfied: markdown-it-py>=2.2.0 in /usr/local/lib/python3.11/dist-packages (from rich->keras>=3.5.0->tensorflow>=2.0.0->openl3) (3.0.0)\n",
            "Requirement already satisfied: pygments<3.0.0,>=2.13.0 in /usr/local/lib/python3.11/dist-packages (from rich->keras>=3.5.0->tensorflow>=2.0.0->openl3) (2.18.0)\n",
            "Requirement already satisfied: mdurl~=0.1 in /usr/local/lib/python3.11/dist-packages (from markdown-it-py>=2.2.0->rich->keras>=3.5.0->tensorflow>=2.0.0->openl3) (0.1.2)\n",
            "Downloading pydub-0.25.1-py2.py3-none-any.whl (32 kB)\n",
            "Downloading spotipy-2.25.1-py3-none-any.whl (31 kB)\n",
            "Downloading redis-5.2.1-py3-none-any.whl (261 kB)\n",
            "\u001b[2K   \u001b[90m━━━━━━━━━━━━━━━━━━━━━━━━━━━━━━━━━━━━━━━━\u001b[0m \u001b[32m261.5/261.5 kB\u001b[0m \u001b[31m20.2 MB/s\u001b[0m eta \u001b[36m0:00:00\u001b[0m\n",
            "\u001b[?25hBuilding wheels for collected packages: openl3, kapre, resampy\n",
            "  Building wheel for openl3 (setup.py) ... \u001b[?25l\u001b[?25hdone\n",
            "  Created wheel for openl3: filename=openl3-0.4.2-py2.py3-none-any.whl size=249327030 sha256=2eb9c1616e8d8941ee9e721b6a64d84c80f30c0144d7683baacbcda78035c456\n",
            "  Stored in directory: /root/.cache/pip/wheels/35/e9/4c/b1e39385b21f2b4d70c01b8793ecc921d69f167cc772868abe\n",
            "  Building wheel for kapre (pyproject.toml) ... \u001b[?25l\u001b[?25hdone\n",
            "  Created wheel for kapre: filename=kapre-0.3.7-py3-none-any.whl size=29641 sha256=daa98b55140db414df4227d0ce290119598a58fd48d6d4c69441367d8750f0ba\n",
            "  Stored in directory: /root/.cache/pip/wheels/d2/17/ce/09b7d799a7c8b463b0a1657941331e0f10112864ff78d28f87\n",
            "  Building wheel for resampy (setup.py) ... \u001b[?25l\u001b[?25hdone\n",
            "  Created wheel for resampy: filename=resampy-0.2.2-py3-none-any.whl size=320705 sha256=443ccd87ed1275da7bd9f273009c4758879d854176262f4e8dbc23ea15c36100\n",
            "  Stored in directory: /root/.cache/pip/wheels/0f/df/63/a2209e98c9b8599049252b409794538bff2aa0d37b5e71fab6\n",
            "Successfully built openl3 kapre resampy\n",
            "Installing collected packages: pydub, redis, spotipy, resampy, kapre, openl3\n",
            "Successfully installed kapre-0.3.7 openl3-0.4.2 pydub-0.25.1 redis-5.2.1 resampy-0.2.2 spotipy-2.25.1\n",
            "Reading package lists... Done\n",
            "Building dependency tree... Done\n",
            "Reading state information... Done\n",
            "ffmpeg is already the newest version (7:4.4.2-0ubuntu0.22.04.1).\n",
            "0 upgraded, 0 newly installed, 0 to remove and 30 not upgraded.\n"
          ]
        }
      ],
      "source": [
        "'''\n",
        "Uncomment and run this cell once at the start of each session.\n",
        "'''\n",
        "\n",
        "!pip install openl3 pydub\n",
        "!apt-get install -y ffmpeg\n"
      ]
    },
    {
      "cell_type": "code",
      "source": [
        "import openl3\n",
        "import librosa\n",
        "import requests\n",
        "import numpy as np\n",
        "import os\n",
        "import re\n",
        "import math\n",
        "from tqdm import tqdm\n",
        "from datetime import datetime, timedelta\n",
        "from collections import defaultdict\n",
        "from pydub import AudioSegment\n",
        "from sklearn.metrics.pairwise import cosine_similarity\n",
        "from sklearn.decomposition import PCA\n",
        "from sklearn.preprocessing import normalize\n",
        "from google.colab import drive, userdata\n",
        "drive.mount('/content/drive')"
      ],
      "metadata": {
        "colab": {
          "base_uri": "https://localhost:8080/"
        },
        "id": "YLpfgIlFvkt4",
        "outputId": "b89136dd-7570-40db-b2cd-45b6b84508f8"
      },
      "execution_count": 53,
      "outputs": [
        {
          "output_type": "stream",
          "name": "stdout",
          "text": [
            "Drive already mounted at /content/drive; to attempt to forcibly remount, call drive.mount(\"/content/drive\", force_remount=True).\n"
          ]
        }
      ]
    },
    {
      "cell_type": "code",
      "source": [
        "def process_seed_track(mp3_path, wav_path, emb_path,\n",
        "                       input_repr=\"mel128\", content_type=\"music\", embedding_size=512):\n",
        "  \"\"\"\n",
        "  Converts MP3 to WAV and computes OpenL3 embedding. Saves WAV and .npy embedding to specified paths.\n",
        "  \"\"\"\n",
        "\n",
        "  audio = AudioSegment.from_file(mp3_path, format=\"mp3\")\n",
        "  audio = audio.set_frame_rate(48000).set_channels(1)\n",
        "  audio.export(wav_path, format=\"wav\")\n",
        "  print(f\"Converted to WAV: {os.path.basename(mp3_path)}\")\n",
        "\n",
        "  audio_data, sr = librosa.load(wav_path, sr=None, mono=True)\n",
        "  emb, _ = openl3.get_audio_embedding(audio_data, sr,\n",
        "                                      input_repr=input_repr,\n",
        "                                      content_type=content_type,\n",
        "                                      embedding_size=embedding_size)\n",
        "  emb_mean = np.mean(emb, axis=0)\n",
        "\n",
        "  np.save(emb_path, emb_mean)\n",
        "  print(f\"Saved embedding: {os.path.basename(emb_path)}\")\n"
      ],
      "metadata": {
        "id": "Yq03fst3xR_r"
      },
      "execution_count": 18,
      "outputs": []
    },
    {
      "cell_type": "code",
      "source": [
        "# define directory paths\n",
        "base_dir = \"/content/drive/My Drive/2024-25/openl3_music/\"\n",
        "mp3_dir = os.path.join(base_dir, \"mp3_seeds\")\n",
        "wav_dir = os.path.join(base_dir, \"wav_seeds\")\n",
        "emb_seed_dir = os.path.join(base_dir, \"seed_embeddings\")"
      ],
      "metadata": {
        "id": "wIlrv5lsca_7"
      },
      "execution_count": 6,
      "outputs": []
    },
    {
      "cell_type": "code",
      "source": [
        "# process all MP3s in the seeds folder. only need to run this code once per seed\n",
        "for filename in os.listdir(mp3_dir):\n",
        "  if filename.endswith(\".mp3\"):\n",
        "    song_name = os.path.splitext(filename)[0]\n",
        "    mp3_path = os.path.join(mp3_dir, filename)\n",
        "    wav_path = os.path.join(wav_dir, song_name + \".wav\")\n",
        "    emb_path = os.path.join(emb_seed_dir, song_name + \"_embedding.npy\")\n",
        "\n",
        "    process_seed_track(mp3_path, wav_path, emb_path)\n"
      ],
      "metadata": {
        "colab": {
          "base_uri": "https://localhost:8080/"
        },
        "id": "EmoiiLNAxsAC",
        "outputId": "ac1d4e40-c9c4-4ed1-bb72-eb6674f38bab"
      },
      "execution_count": 19,
      "outputs": [
        {
          "output_type": "stream",
          "name": "stdout",
          "text": [
            "Converted to WAV: irwtsayh.mp3\n",
            "\u001b[1m82/82\u001b[0m \u001b[32m━━━━━━━━━━━━━━━━━━━━\u001b[0m\u001b[37m\u001b[0m \u001b[1m20s\u001b[0m 142ms/step\n",
            "Saved embedding: irwtsayh_embedding.npy\n",
            "Converted to WAV: amoeba.mp3\n",
            "\u001b[1m72/72\u001b[0m \u001b[32m━━━━━━━━━━━━━━━━━━━━\u001b[0m\u001b[37m\u001b[0m \u001b[1m11s\u001b[0m 145ms/step\n",
            "Saved embedding: amoeba_embedding.npy\n",
            "Converted to WAV: projectdreams.mp3\n",
            "\u001b[1m53/53\u001b[0m \u001b[32m━━━━━━━━━━━━━━━━━━━━\u001b[0m\u001b[37m\u001b[0m \u001b[1m9s\u001b[0m 147ms/step\n",
            "Saved embedding: projectdreams_embedding.npy\n",
            "Converted to WAV: undercovermartyn.mp3\n",
            "\u001b[1m53/53\u001b[0m \u001b[32m━━━━━━━━━━━━━━━━━━━━\u001b[0m\u001b[37m\u001b[0m \u001b[1m6s\u001b[0m 91ms/step\n",
            "Saved embedding: undercovermartyn_embedding.npy\n"
          ]
        }
      ]
    },
    {
      "cell_type": "markdown",
      "source": [
        "# Deezer API testing"
      ],
      "metadata": {
        "id": "qienKz-yLMh3"
      }
    },
    {
      "cell_type": "code",
      "source": [
        "def safe_filename(name):\n",
        "  return re.sub(r'[\\\\/:\"*?<>|]+', '_', name)\n",
        "\n",
        "def get_deezer_new_albums(limit=20, country_id=0, days_back=5):\n",
        "  \"\"\"\n",
        "  Pulls new releases from Deezer editorial. Default is Global (ID 0).\n",
        "  Country IDs are Deezer-specific (e.g., 2 = US, 6 = FR, etc.)\n",
        "  \"\"\"\n",
        "  recent_date_cutoff = datetime.now() - timedelta(days=days_back)\n",
        "\n",
        "  url = f\"https://api.deezer.com/editorial/{country_id}/releases\"\n",
        "  r = requests.get(url)\n",
        "  if r.status_code != 200:\n",
        "    raise Exception(\"Failed to fetch releases.\")\n",
        "  data = r.json()['data']\n",
        "\n",
        "  albums = [{\n",
        "    'title': album['title'],\n",
        "    'artist': album['artist']['name'],\n",
        "    'id': album['id']\n",
        "  } for album in data[:limit] if datetime.strptime(album['release_date'], '%Y-%m-%d') > recent_date_cutoff]\n",
        "\n",
        "  print(f\"Loaded {len(albums)} albums from Deezer, released in the past {days_back} days.\")\n",
        "  return albums\n",
        "\n",
        "def get_deezer_tracks_from_album(album_id):\n",
        "  url = f\"https://api.deezer.com/album/{album_id}\"\n",
        "  r = requests.get(url)\n",
        "  if r.status_code != 200:\n",
        "    raise Exception(\"Failed to fetch tracks.\")\n",
        "  data = r.json()\n",
        "  tracks = data.get('tracks', {}).get('data', [])\n",
        "\n",
        "  return [{\n",
        "    'title': safe_filename(track['title']),\n",
        "    'artist': track['artist']['name'],\n",
        "    'id': track['id'],\n",
        "    'preview_url': track['preview']\n",
        "  } for track in tracks if track.get('preview')]\n",
        "\n",
        "def compile_previewable_tracks(album_list):\n",
        "  all_tracks = []\n",
        "  for album in album_list:\n",
        "    tracks = get_deezer_tracks_from_album(album['id'])\n",
        "    all_tracks.extend(tracks)\n",
        "  print(f\"Compiled {len(all_tracks)} previewable tracks from {len(album_list)} albums.\")\n",
        "  return all_tracks\n",
        "\n",
        "def download_and_convert_preview(track, mp3_dir, wav_dir):\n",
        "  \"\"\"\n",
        "  Downloads preview track from Deezer and converts to WAV.\n",
        "  \"\"\"\n",
        "  mp3_path = os.path.join(mp3_dir, f\"{track['artist']} - {track['title']}.mp3\")\n",
        "  wav_path = os.path.join(wav_dir, f\"{track['artist']} - {track['title']}.wav\")\n",
        "\n",
        "  r = requests.get(track['preview_url'])\n",
        "  if r.status_code != 200:\n",
        "    raise Exception(\"Failed to download preview.\")\n",
        "\n",
        "  with open(mp3_path, 'wb') as f:\n",
        "    f.write(r.content)\n",
        "\n",
        "  audio = AudioSegment.from_file(mp3_path, format=\"mp3\")\n",
        "  audio = audio.set_frame_rate(48000).set_channels(1)\n",
        "  audio.export(wav_path, format=\"wav\")\n",
        "  return wav_path\n",
        "\n",
        "def compute_openl3_embedding(wav_path, emb_path, model):\n",
        "  audio, sr = librosa.load(wav_path, sr=None, mono=True)\n",
        "  emb, _ = openl3.get_audio_embedding(audio, sr,\n",
        "                                      content_type=\"music\",\n",
        "                                      embedding_size=512,\n",
        "                                      model=model,\n",
        "                                      verbose=0)\n",
        "  emb_mean = np.mean(emb, axis=0)\n",
        "  emb_path = os.path.join(emb_path, os.path.basename(wav_path).replace(\".wav\", \"_embedding.npy\"))\n",
        "  np.save(emb_path, emb_mean)\n",
        "  return emb_mean\n",
        "\n",
        "def find_similar_tracks(candidate_tracks, candidate_embeddings, seed_embeddings, seed_names, top_k):\n",
        "  seed_matrix = np.stack(seed_embeddings)\n",
        "\n",
        "  pca = PCA(n_components=50)\n",
        "  reduced_embs = normalize(pca.fit_transform(candidate_embeddings))\n",
        "  reduced_seeds = normalize(pca.transform(seed_matrix))\n",
        "  similarities = cosine_similarity(reduced_embs, reduced_seeds)\n",
        "\n",
        "  max_scores = np.max(similarities, axis=1)\n",
        "  best_seed_idx = np.argmax(similarities, axis=1)\n",
        "\n",
        "  all_candidates = []\n",
        "  for i, track in enumerate(candidate_tracks):\n",
        "    artist, title = track.split(\" - \", maxsplit=1)\n",
        "    all_candidates.append({\n",
        "      'artist': artist,\n",
        "      'track': title,\n",
        "      'similarity': float(max_scores[i]),\n",
        "      'closest_seed': seed_names[best_seed_idx[i]]\n",
        "    })\n",
        "\n",
        "  all_candidates.sort(key=lambda x: x['similarity'], reverse=True)\n",
        "\n",
        "  # select best matches per seed\n",
        "  max_per_artist = math.floor(0.2 * top_k)\n",
        "  per_seed_quota = math.ceil(top_k / len(seed_names))\n",
        "  selected_tracks = []\n",
        "  artist_counts = defaultdict(int)\n",
        "  used_indices = set()\n",
        "\n",
        "  for j, seed in enumerate(seed_names):\n",
        "    seed_matches = [(i, similarities[i][j]) for i in range(len(all_candidates))]\n",
        "    seed_matches.sort(key=lambda x: -x[1])\n",
        "\n",
        "    count = 0\n",
        "    for idx, sim in seed_matches:\n",
        "      if idx in used_indices:\n",
        "        continue\n",
        "      artist = all_candidates[idx]['artist']\n",
        "      if artist_counts[artist] < max_per_artist:\n",
        "        selected_tracks.append(all_candidates[idx])\n",
        "        artist_counts[artist] += 1\n",
        "        used_indices.add(idx)\n",
        "        count += 1\n",
        "      if count >= per_seed_quota:\n",
        "        break\n",
        "\n",
        "  # fill remaining up to top_k with remaining best matches\n",
        "  if len(selected_tracks) < top_k:\n",
        "    for i in range(len(all_candidates)):\n",
        "      if i in used_indices:\n",
        "        continue\n",
        "      artist = all_candidates[i]['artist']\n",
        "      if artist_counts[artist] < max_per_artist:\n",
        "        selected_tracks.append(all_candidates[i])\n",
        "        artist_counts[artist] += 1\n",
        "        used_indices.add(i)\n",
        "      if len(selected_tracks) >= top_k:\n",
        "        break\n",
        "\n",
        "  selected_tracks.sort(key=lambda x: -x['similarity'])\n",
        "  return selected_tracks[:top_k]\n"
      ],
      "metadata": {
        "id": "jI3V40M9LN0X"
      },
      "execution_count": 70,
      "outputs": []
    },
    {
      "cell_type": "code",
      "source": [
        "def run_full_deezer_pipeline(album_list, mp3_dir, wav_dir, track_dir):\n",
        "  all_tracks = compile_previewable_tracks(album_list)\n",
        "  candidate_embeddings = []\n",
        "  valid_tracks = []\n",
        "\n",
        "  model = openl3.models.load_audio_embedding_model(input_repr=\"mel128\",\n",
        "                                                   content_type=\"music\",\n",
        "                                                   embedding_size=512)\n",
        "\n",
        "  for track in tqdm(all_tracks, desc='Computing embeddings'):\n",
        "    wav_path = download_and_convert_preview(track, mp3_dir, wav_dir)\n",
        "    if not wav_path:\n",
        "      continue\n",
        "    emb = compute_openl3_embedding(wav_path, track_dir, model)\n",
        "    candidate_embeddings.append(emb)\n",
        "    valid_tracks.append(track)\n",
        "\n",
        "  if not candidate_embeddings:\n",
        "    print(\"No valid previews were processed.\")\n",
        "    return []\n"
      ],
      "metadata": {
        "id": "KWbRJ1zOLv_o"
      },
      "execution_count": 73,
      "outputs": []
    },
    {
      "cell_type": "code",
      "source": [
        "def load_embeddings_from_dir(embedding_dir):\n",
        "  embeddings = []\n",
        "  names = []\n",
        "\n",
        "  for fname in os.listdir(embedding_dir):\n",
        "    if fname.endswith(\".npy\"):\n",
        "      path = os.path.join(embedding_dir, fname)\n",
        "      emb = np.load(path)\n",
        "      embeddings.append(emb)\n",
        "      name = fname.replace(\"_embedding.npy\", \"\")\n",
        "      names.append(name)\n",
        "\n",
        "  print(f\"Loaded {len(embeddings)} embeddings.\")\n",
        "  return embeddings, names\n"
      ],
      "metadata": {
        "id": "4uabLDZJXzi0"
      },
      "execution_count": 41,
      "outputs": []
    },
    {
      "cell_type": "code",
      "source": [
        "mp3_track_dir = os.path.join(base_dir, \"mp3_tracks\")\n",
        "wav_track_dir = os.path.join(base_dir, \"wav_tracks\")\n",
        "emb_track_dir = os.path.join(base_dir, \"track_embeddings\")\n",
        "seed_embs, seed_names = load_embeddings_from_dir(emb_seed_dir)\n",
        "print(seed_names)\n",
        "albums = get_deezer_new_albums(days_back = 7)"
      ],
      "metadata": {
        "colab": {
          "base_uri": "https://localhost:8080/"
        },
        "id": "Uqbocr2gW35r",
        "outputId": "84ff9708-c8f0-44cb-9ad9-988512d7b4a0"
      },
      "execution_count": 23,
      "outputs": [
        {
          "output_type": "stream",
          "name": "stdout",
          "text": [
            "Loaded 4 seed embeddings.\n",
            "['irwtsayh', 'amoeba', 'projectdreams', 'undercovermartyn']\n",
            "Loaded 15 albums from Deezer, released in the past 7 days.\n"
          ]
        }
      ]
    },
    {
      "cell_type": "code",
      "source": [
        "# Only need to run once per session. Saves embeddings of candidate tracks in a new directory.\n",
        "run_full_deezer_pipeline(albums, mp3_track_dir, wav_track_dir, emb_track_dir)"
      ],
      "metadata": {
        "colab": {
          "base_uri": "https://localhost:8080/"
        },
        "collapsed": true,
        "id": "fUsLz6iRYMVa",
        "outputId": "07a26030-8aa4-4f82-f8e8-bfe9bb79c559"
      },
      "execution_count": 74,
      "outputs": [
        {
          "output_type": "stream",
          "name": "stdout",
          "text": [
            "Compiled 233 previewable tracks from 15 albums.\n"
          ]
        },
        {
          "output_type": "stream",
          "name": "stderr",
          "text": [
            "Computing embeddings: 100%|██████████| 233/233 [06:46<00:00,  1.75s/it]\n"
          ]
        }
      ]
    },
    {
      "cell_type": "code",
      "source": [
        "track_embs, track_names = load_embeddings_from_dir(emb_track_dir)\n",
        "st = find_similar_tracks(track_names, track_embs, seed_embs, seed_names, top_k = 10)"
      ],
      "metadata": {
        "colab": {
          "base_uri": "https://localhost:8080/"
        },
        "id": "zpvcqnJePNHy",
        "outputId": "cd7d646b-c9ce-4ae3-8322-eedafef14507"
      },
      "execution_count": 75,
      "outputs": [
        {
          "output_type": "stream",
          "name": "stdout",
          "text": [
            "Loaded 233 embeddings.\n"
          ]
        }
      ]
    },
    {
      "cell_type": "code",
      "source": [
        "st"
      ],
      "metadata": {
        "colab": {
          "base_uri": "https://localhost:8080/"
        },
        "id": "Pv5Q62MvRIgb",
        "outputId": "485b720b-1586-45d4-94ec-7104fe1db408"
      },
      "execution_count": 78,
      "outputs": [
        {
          "output_type": "execute_result",
          "data": {
            "text/plain": [
              "[{'artist': 'Allegaeon',\n",
              "  'track': 'Chaos Theory',\n",
              "  'similarity': 0.7331178619874356,\n",
              "  'closest_seed': 'irwtsayh'},\n",
              " {'artist': 'Black Sherif',\n",
              "  'track': 'One',\n",
              "  'similarity': 0.7238382769840812,\n",
              "  'closest_seed': 'projectdreams'},\n",
              " {'artist': 'KeBlack',\n",
              "  'track': 'Avec',\n",
              "  'similarity': 0.6361437303765004,\n",
              "  'closest_seed': 'projectdreams'},\n",
              " {'artist': 'Didi B',\n",
              "  'track': 'GAWAYA',\n",
              "  'similarity': 0.5975490319992783,\n",
              "  'closest_seed': 'projectdreams'},\n",
              " {'artist': 'OBOY',\n",
              "  'track': 'Maybach',\n",
              "  'similarity': 0.5770761870397767,\n",
              "  'closest_seed': 'projectdreams'},\n",
              " {'artist': 'Black Sherif',\n",
              "  'track': 'Eye Open',\n",
              "  'similarity': 0.5746119497239018,\n",
              "  'closest_seed': 'projectdreams'},\n",
              " {'artist': 'Djo',\n",
              "  'track': 'Golden Line',\n",
              "  'similarity': 0.5662374132360284,\n",
              "  'closest_seed': 'amoeba'},\n",
              " {'artist': 'Allegaeon',\n",
              "  'track': 'Imperial',\n",
              "  'similarity': 0.5647617587147457,\n",
              "  'closest_seed': 'irwtsayh'},\n",
              " {'artist': 'KeBlack',\n",
              "  'track': 'Boulot',\n",
              "  'similarity': 0.26086172445248146,\n",
              "  'closest_seed': 'projectdreams'},\n",
              " {'artist': 'Riky Rick',\n",
              "  'track': 'Cherished (feat. Elaine)',\n",
              "  'similarity': 0.25889896356041187,\n",
              "  'closest_seed': 'irwtsayh'}]"
            ]
          },
          "metadata": {},
          "execution_count": 78
        }
      ]
    },
    {
      "cell_type": "markdown",
      "source": [
        "# Cleanup"
      ],
      "metadata": {
        "id": "anMd8LLfF0yn"
      }
    },
    {
      "cell_type": "code",
      "source": [
        "def clear_directory_contents(dirs, extensions=(\".mp3\", \".wav\", \".npy\")):\n",
        "  for dir_path in dirs:\n",
        "    if os.path.exists(dir_path):\n",
        "      deleted = 0\n",
        "      for fname in os.listdir(dir_path):\n",
        "        if fname.endswith(extensions):\n",
        "          os.remove(os.path.join(dir_path, fname))\n",
        "          deleted += 1\n",
        "      print(f\"Deleted {deleted} files from {dir_path}\")\n",
        "    else:\n",
        "      print(f\"Directory not found: {dir_path}\")"
      ],
      "metadata": {
        "id": "DxkbOLyqFejh"
      },
      "execution_count": 16,
      "outputs": []
    },
    {
      "cell_type": "code",
      "source": [
        "directories = [mp3_track_dir, wav_track_dir, emb_track_dir]\n",
        "clear_directory_contents(directories)"
      ],
      "metadata": {
        "colab": {
          "base_uri": "https://localhost:8080/"
        },
        "id": "eWrd7dnoF2Zj",
        "outputId": "52709f05-cd84-475b-ffa7-23a9524018c8"
      },
      "execution_count": 37,
      "outputs": [
        {
          "output_type": "stream",
          "name": "stdout",
          "text": [
            "Deleted 233 files from /content/drive/My Drive/2024-25/openl3_music/mp3_tracks\n",
            "Deleted 233 files from /content/drive/My Drive/2024-25/openl3_music/wav_tracks\n",
            "Deleted 1 files from /content/drive/My Drive/2024-25/openl3_music/track_embeddings\n"
          ]
        }
      ]
    }
  ]
}